{
  "nbformat": 4,
  "nbformat_minor": 0,
  "metadata": {
    "colab": {
      "name": "Assignment1.ipynb",
      "provenance": [],
      "collapsed_sections": []
    },
    "kernelspec": {
      "name": "python3",
      "display_name": "Python 3"
    }
  },
  "cells": [
    {
      "cell_type": "markdown",
      "metadata": {
        "id": "ij6dqmeFmG42",
        "colab_type": "text"
      },
      "source": [
        "# **Importing the dataset**"
      ]
    },
    {
      "cell_type": "code",
      "metadata": {
        "id": "976iBnizmJLk",
        "colab_type": "code",
        "outputId": "ba4c53bf-e9dd-4d66-b4f8-40c2329e5ac5",
        "colab": {
          "base_uri": "https://localhost:8080/",
          "height": 124
        }
      },
      "source": [
        "import numpy as np\n",
        "import cv2\n",
        "import matplotlib.pyplot as plt\n",
        "from sklearn.neighbors import KNeighborsClassifier\n",
        "from sklearn.metrics import accuracy_score\n",
        "from google.colab import drive \n",
        "drive.mount('/content/drive')"
      ],
      "execution_count": 0,
      "outputs": [
        {
          "output_type": "stream",
          "text": [
            "Go to this URL in a browser: https://accounts.google.com/o/oauth2/auth?client_id=947318989803-6bn6qk8qdgf4n4g3pfee6491hc0brc4i.apps.googleusercontent.com&redirect_uri=urn%3aietf%3awg%3aoauth%3a2.0%3aoob&response_type=code&scope=email%20https%3a%2f%2fwww.googleapis.com%2fauth%2fdocs.test%20https%3a%2f%2fwww.googleapis.com%2fauth%2fdrive%20https%3a%2f%2fwww.googleapis.com%2fauth%2fdrive.photos.readonly%20https%3a%2f%2fwww.googleapis.com%2fauth%2fpeopleapi.readonly\n",
            "\n",
            "Enter your authorization code:\n",
            "··········\n",
            "Mounted at /content/drive\n"
          ],
          "name": "stdout"
        }
      ]
    },
    {
      "cell_type": "markdown",
      "metadata": {
        "id": "sfUdKGzjmVvZ",
        "colab_type": "text"
      },
      "source": [
        "# **Generate the Data Matrix and the Label vector**\n"
      ]
    },
    {
      "cell_type": "code",
      "metadata": {
        "id": "b_jHD0OVmS0f",
        "colab_type": "code",
        "colab": {}
      },
      "source": [
        "def generate_data():\n",
        "  D = np.zeros((400, 10304))\n",
        "  y = np.zeros((400, 1))\n",
        "  for i in range(1,41):\n",
        "    for j in range(1,11):\n",
        "      y[(i-1)*10+j-1]+=i\n",
        "      path = r'/content/drive/My Drive/att_faces/s'+str(i)+'/'+str(j)+'.pgm'\n",
        "      img = cv2.imread(path,0)\n",
        "      imageMatrix=np.array(img)\n",
        "      imageMatrix=np.reshape(imageMatrix,(1,10304))\n",
        "      for k in range(0,10304):\n",
        "        D[(i-1)*10 + j-1,k]+=imageMatrix[0,k]\n",
        "  return D,y"
      ],
      "execution_count": 0,
      "outputs": []
    },
    {
      "cell_type": "markdown",
      "metadata": {
        "id": "Vbe5WGz9md0w",
        "colab_type": "text"
      },
      "source": [
        "# **Split the Dataset into Training and Test sets**"
      ]
    },
    {
      "cell_type": "code",
      "metadata": {
        "id": "YT-L0oqWmZi9",
        "colab_type": "code",
        "colab": {}
      },
      "source": [
        "def split_data(D,y):\n",
        "  bonus = False\n",
        "  test=D[::2]\n",
        "  y_test=y[::2]\n",
        "  training = D[1::2]\n",
        "  y_training = y[1::2]\n",
        "  return training, y_training, test, y_test, bonus"
      ],
      "execution_count": 0,
      "outputs": []
    },
    {
      "cell_type": "code",
      "metadata": {
        "id": "_x8F27EH2wMS",
        "colab_type": "code",
        "colab": {}
      },
      "source": [
        "def split_data_bonus(D,y):\n",
        "  bonus = True\n",
        "  j = 0\n",
        "  test = np.zeros((120,10304))\n",
        "  y_test = []\n",
        "  training = np.zeros((280,10304))\n",
        "  y_training = []\n",
        "  for i in range(0,400):\n",
        "      if j%10==10:\n",
        "        j = 0\n",
        "      if j%10 >=7:\n",
        "          temp1 = D[i]\n",
        "          temp2 = y[i]\n",
        "          test+=temp1\n",
        "          y_test.append(temp2)\n",
        "      else:\n",
        "          temp1 = D[i]\n",
        "          temp2 = y[i]\n",
        "          # training.append(temp1)\n",
        "          training+=temp1\n",
        "          y_training.append(temp2)\n",
        "      j+=1\n",
        "\n",
        "  print(training)\n",
        "  print(test)\n",
        "  return training, y_training, test, y_test, bonus"
      ],
      "execution_count": 0,
      "outputs": []
    },
    {
      "cell_type": "markdown",
      "metadata": {
        "id": "imXOzpf4moAg",
        "colab_type": "text"
      },
      "source": [
        "# **Classification using PCA**\n",
        "\n",
        "\n",
        "\n"
      ]
    },
    {
      "cell_type": "code",
      "metadata": {
        "id": "_3BTajvvmmjP",
        "colab_type": "code",
        "colab": {}
      },
      "source": [
        "def pca_classification(training):\n",
        "  mean=np.mean(training,axis=0)\n",
        "  Z=training-mean\n",
        "  covariance=1/200*np.dot(np.transpose(Z),Z)\n",
        "  eValues,eVectors=np.linalg.eigh(covariance)\n",
        "  return mean,eValues, eVectors"
      ],
      "execution_count": 0,
      "outputs": []
    },
    {
      "cell_type": "code",
      "metadata": {
        "id": "1QiCmNM4nwgx",
        "colab_type": "code",
        "colab": {}
      },
      "source": [
        "# sort eigenvalue in decreasing order\n",
        "def sort_eigen_pca(eValues,eVectors):\n",
        "  idx = np.argsort(np.absolute(eValues))[::-1]\n",
        "  sorted_evecs = eVectors[:,idx]\n",
        "  # sort eigenvectors according to same index\n",
        "  sorted_evals = eValues[idx]\n",
        "  return sorted_evals, sorted_evecs"
      ],
      "execution_count": 0,
      "outputs": []
    },
    {
      "cell_type": "code",
      "metadata": {
        "id": "Mx4oxd-bn2V-",
        "colab_type": "code",
        "colab": {}
      },
      "source": [
        "def pca_r_dimensions(sorted_evals):\n",
        "  sum = np.sum( np.abs(sorted_evals))\n",
        "  index=0\n",
        "  r_array = np.zeros(4)\n",
        "\n",
        "  for i in [0.8, 0.85, 0.9, 0.95]:\n",
        "      fractional_sum = 0\n",
        "      for j in range( 0, len( sorted_evals)):\n",
        "          fractional_sum += np.abs(sorted_evals[j])\n",
        "          if (fractional_sum/sum) >= i :\n",
        "            r_array[index]  += j+1\n",
        "            index = index + 1\n",
        "            break\n",
        "  return r_array"
      ],
      "execution_count": 0,
      "outputs": []
    },
    {
      "cell_type": "code",
      "metadata": {
        "id": "VxFlEwMjn81R",
        "colab_type": "code",
        "colab": {}
      },
      "source": [
        "def projection_matrix(r_array,sorted_evecs):\n",
        "  Ur1=sorted_evecs[:,0:int(r_array[0])]\n",
        "  Ur2=sorted_evecs[:,0:int(r_array[1])]\n",
        "  Ur3=sorted_evecs[:,0:int(r_array[2])]\n",
        "  Ur4=sorted_evecs[:,0:int(r_array[3])]\n",
        "  Ur=[Ur1,Ur2,Ur3,Ur4]\n",
        "\n",
        "  return Ur"
      ],
      "execution_count": 0,
      "outputs": []
    },
    {
      "cell_type": "code",
      "metadata": {
        "id": "hxe_ZOFUoC9F",
        "colab_type": "code",
        "colab": {}
      },
      "source": [
        "def knn_pca(training,Ur,test,y_training,y_test):\n",
        "  print('PCA CLASSIFICATION:\\n')\n",
        "  print(\"Knn\\t\\tR Evectors\\t\\tAccuracy\")\n",
        "  \n",
        "  for k in [1,3,5,7]:\n",
        "    classifier = KNeighborsClassifier(n_neighbors=k)\n",
        "    print(\"\\n\")\n",
        "    for i in range(0,4):\n",
        "      reduced_training_data=np.dot(training,Ur[i])\n",
        "      reduced_test_data=np.dot(test,Ur[i])\n",
        "      classifier.fit(reduced_training_data,y_training.ravel(order='C'))\n",
        "      predictions = classifier.predict(reduced_test_data)\n",
        "      acc = accuracy_score(y_test,predictions)\n",
        "      print(k,'\\t\\t',r_array[i],'\\t\\t\\t',acc)\n"
      ],
      "execution_count": 0,
      "outputs": []
    },
    {
      "cell_type": "markdown",
      "metadata": {
        "id": "Ijgji2A2oqHu",
        "colab_type": "text"
      },
      "source": [
        "# **Classification using LDA**"
      ]
    },
    {
      "cell_type": "code",
      "metadata": {
        "id": "qIJQ9i1vol3K",
        "colab_type": "code",
        "colab": {}
      },
      "source": [
        "def lda_classification(training,mean,bonus):\n",
        "    lda_mean=np.zeros((40,10304))\n",
        "    if bonus == True:\n",
        "        for i in range(0,40):\n",
        "            lda_mean[i]+=np.mean(training[i*7: (i*7)+7 ,:])\n",
        "\n",
        "        s_b = np.zeros((10304,10304))\n",
        "        for i in range(0,40):\n",
        "          diff=lda_mean[i]-mean\n",
        "          s_b += 7 * np.dot(np.transpose(diff),diff)\n",
        "\n",
        "        z_lda = np.zeros((280, 10304))\n",
        "        s = np.zeros((10304,10304))\n",
        "\n",
        "        for i in range(0,280):\n",
        "          index= int(i/7)\n",
        "          z_lda[i] += training[i]-lda_mean[index]\n",
        "\n",
        "        for i in range(0,40):\n",
        "          z_i = z_lda[i*7: (i*7)+7 ,:]\n",
        "          s += np.dot(np.transpose(z_i) , z_i)\n",
        "\n",
        "    else:\n",
        "      for i in range(0,40):\n",
        "          lda_mean[i]+=np.mean(training[i*5: (i*5)+5 ,:])\n",
        "\n",
        "      s_b = np.zeros((10304,10304))\n",
        "      for i in range(0,40):\n",
        "        diff=lda_mean[i]-mean\n",
        "        s_b += 5 * np.dot(np.transpose(diff),diff)\n",
        "\n",
        "      z_lda = np.zeros((200, 10304))\n",
        "      s = np.zeros((10304,10304))\n",
        "\n",
        "      for i in range(0,200):\n",
        "        index= int(i/5)\n",
        "        z_lda[i] += training[i]-lda_mean[index]\n",
        "\n",
        "      for i in range(0,40):\n",
        "        z_i = z_lda[i*5:(i*5) +5 ,:]\n",
        "        s += np.dot(np.transpose(z_i) , z_i)\n",
        "\n",
        "\n",
        "    tmp= np.dot( np.linalg.pinv(s,hermitian=True), s_b)\n",
        "    lda_eig_vals, lda_eig_vecs = np.linalg.eig( tmp)\n",
        "    return lda_eig_vals, lda_eig_vecs"
      ],
      "execution_count": 0,
      "outputs": []
    },
    {
      "cell_type": "code",
      "metadata": {
        "id": "8Vx9xui0pxmq",
        "colab_type": "code",
        "colab": {}
      },
      "source": [
        "def sort_eigen_lda(lda_eig_vals,lda_eig_vecs):\n",
        "  # sort eigenvalue in decreasing order\n",
        "  # idx_lda = np.argsort(np.absolute(lda_eig_vals))[::-1]\n",
        "  idx_lda=np.abs(lda_eig_vals).argsort()[::-1]\n",
        "  sorted_lda_evecs = lda_eig_vecs[:,idx_lda]\n",
        "  # sort eigenvectors according to same index\n",
        "  sorted_lda_evals = lda_eig_vals[idx_lda]\n",
        "\n",
        "  return sorted_lda_evecs"
      ],
      "execution_count": 0,
      "outputs": []
    },
    {
      "cell_type": "code",
      "metadata": {
        "id": "yi0HsMHCp7zu",
        "colab_type": "code",
        "colab": {}
      },
      "source": [
        "def lda_r_dimensions(training,test,sorted_lda_evecs):\n",
        "  evecs_reduced =  np.real(sorted_lda_evecs[:,0:39] )\n",
        "  reduced_lda_training= np.dot(training, evecs_reduced )\n",
        "  reduced_lda_test=np.dot(test,  evecs_reduced )\n",
        "\n",
        "  return reduced_lda_training, reduced_lda_test"
      ],
      "execution_count": 0,
      "outputs": []
    },
    {
      "cell_type": "code",
      "metadata": {
        "id": "HsompOilqYMq",
        "colab_type": "code",
        "colab": {}
      },
      "source": [
        "def knn_lda(reduced_lda_training,reduced_lda_test,y_training,y_test):\n",
        "  acc_array=[]\n",
        "  for k in [1,3,5,7]:\n",
        "    classifier_lda = KNeighborsClassifier(n_neighbors=k)\n",
        "    classifier_lda.fit(reduced_lda_training,y_training.ravel(order='C'))\n",
        "    predictions_lda = classifier_lda.predict(reduced_lda_test)\n",
        "    acc_lda = accuracy_score(y_test,predictions_lda)\n",
        "    acc_array.append(acc_lda) \n",
        "    \n",
        "  return acc_array"
      ],
      "execution_count": 0,
      "outputs": []
    },
    {
      "cell_type": "code",
      "metadata": {
        "id": "ZWlf0s-Eq18x",
        "colab_type": "code",
        "colab": {}
      },
      "source": [
        "def print_lda(acc_array):\n",
        "  print('LDA CLASSIFICATION:\\n')\n",
        "  print(\"Knn\\t\\t\\tAccuracy\")\n",
        "  K=[1,3,5,7]\n",
        "  for i in range(len(K)):\n",
        "    print(K[i],'\\t\\t\\t',acc_array[i])\n",
        "\n",
        "  plt.plot(K, acc_array)\n",
        "  plt.xlabel('Knn ')\n",
        "  plt.ylabel('Accuracy')\n",
        "\n",
        " \n"
      ],
      "execution_count": 0,
      "outputs": []
    },
    {
      "cell_type": "code",
      "metadata": {
        "id": "6GA_kL0m1Hck",
        "colab_type": "code",
        "colab": {}
      },
      "source": [
        "#data\n",
        "\n",
        "D,y = generate_data()\n",
        "training, y_training, test, y_test,bonus = split_data(D,y)"
      ],
      "execution_count": 0,
      "outputs": []
    },
    {
      "cell_type": "code",
      "metadata": {
        "id": "DkmMRhfsq6VP",
        "colab_type": "code",
        "outputId": "7031e4e6-1fcb-42cd-f654-bc57449ca891",
        "colab": {
          "base_uri": "https://localhost:8080/",
          "height": 485
        }
      },
      "source": [
        "#pca\n",
        " \n",
        "mean,eValues, eVectors = pca_classification(training)\n",
        "sorted_evals, sorted_evecs = sort_eigen_pca(eValues, eVectors)\n",
        "r_array = pca_r_dimensions(sorted_evals)\n",
        "Ur = projection_matrix(r_array,sorted_evecs) \n",
        "knn_pca(training,Ur,test,y_training,y_test)\n",
        "\n",
        "\n",
        "\n",
        "\n"
      ],
      "execution_count": 0,
      "outputs": [
        {
          "output_type": "stream",
          "text": [
            "PCA CLASSIFICATION:\n",
            "\n",
            "Knn\t\tR Evectors\t\tAccuracy\n",
            "\n",
            "\n",
            "1 \t\t 37.0 \t\t\t 0.93\n",
            "1 \t\t 53.0 \t\t\t 0.94\n",
            "1 \t\t 77.0 \t\t\t 0.945\n",
            "1 \t\t 116.0 \t\t\t 0.935\n",
            "\n",
            "\n",
            "3 \t\t 37.0 \t\t\t 0.855\n",
            "3 \t\t 53.0 \t\t\t 0.855\n",
            "3 \t\t 77.0 \t\t\t 0.85\n",
            "3 \t\t 116.0 \t\t\t 0.845\n",
            "\n",
            "\n",
            "5 \t\t 37.0 \t\t\t 0.805\n",
            "5 \t\t 53.0 \t\t\t 0.83\n",
            "5 \t\t 77.0 \t\t\t 0.815\n",
            "5 \t\t 116.0 \t\t\t 0.815\n",
            "\n",
            "\n",
            "7 \t\t 37.0 \t\t\t 0.78\n",
            "7 \t\t 53.0 \t\t\t 0.775\n",
            "7 \t\t 77.0 \t\t\t 0.755\n",
            "7 \t\t 116.0 \t\t\t 0.74\n"
          ],
          "name": "stdout"
        }
      ]
    },
    {
      "cell_type": "code",
      "metadata": {
        "id": "2M-vwcwv1EzB",
        "colab_type": "code",
        "outputId": "c4985e08-7519-4db2-cd57-d340e2f4c017",
        "colab": {
          "base_uri": "https://localhost:8080/",
          "height": 401
        }
      },
      "source": [
        "  #lda\n",
        "  lda_eig_vals, lda_eig_vecs = lda_classification(training,mean,bonus)\n",
        "  sorted_lda_evecs = sort_eigen_lda(lda_eig_vals, lda_eig_vecs)\n",
        "  reduced_lda_training, reduced_lda_test = lda_r_dimensions(training,test,sorted_lda_evecs)\n",
        "  acc_array=knn_lda(reduced_lda_training,reduced_lda_test,y_training,y_test)\n",
        "  print_lda(acc_array)"
      ],
      "execution_count": 0,
      "outputs": [
        {
          "output_type": "stream",
          "text": [
            "LDA CLASSIFICATION:\n",
            "\n",
            "Knn\t\t\tAccuracy\n",
            "1 \t\t\t 0.64\n",
            "3 \t\t\t 0.535\n",
            "5 \t\t\t 0.49\n",
            "7 \t\t\t 0.475\n"
          ],
          "name": "stdout"
        },
        {
          "output_type": "display_data",
          "data": {
            "image/png": "[encoded data removed]",
            "text/plain": [
              "<Figure size 432x288 with 1 Axes>"
            ]
          },
          "metadata": {
            "tags": []
          }
        }
      ]
    },
    {
      "cell_type": "markdown",
      "metadata": {
        "id": "l2wqsuIvSAjU",
        "colab_type": "text"
      },
      "source": [
        "# **BONUS_PCA**"
      ]
    },
    {
      "cell_type": "code",
      "metadata": {
        "colab_type": "code",
        "id": "kOnn5Y4Yse7l",
        "colab": {}
      },
      "source": [
        "  trainingB, y_trainingB, testB, y_testB,bonus = split_data_bonus(D,y)\n",
        "  meanB,eValues, eVectors = pca_classification(trainingB)\n",
        "  sorted_evals, sorted_evecs = sort_eigen_pca(eValues, eVectors)\n",
        "  r_array = pca_r_dimensions(sorted_evals)\n",
        "  Ur = projection_matrix(r_array,sorted_evecs) \n",
        "  knn_pca(trainingB,Ur,testB,y_trainingB,y_testB)\n",
        "\n",
        "\n",
        "  "
      ],
      "execution_count": 0,
      "outputs": []
    }
  ]
}